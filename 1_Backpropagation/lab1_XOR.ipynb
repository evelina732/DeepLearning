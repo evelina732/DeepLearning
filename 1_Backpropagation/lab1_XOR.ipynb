{
  "nbformat": 4,
  "nbformat_minor": 0,
  "metadata": {
    "colab": {
      "name": "lab1_XOR.ipynb",
      "provenance": []
    },
    "kernelspec": {
      "name": "python3",
      "display_name": "Python 3"
    },
    "language_info": {
      "name": "python"
    }
  },
  "cells": [
    {
      "cell_type": "code",
      "execution_count": null,
      "metadata": {
        "id": "jo8OcKAB-oqE"
      },
      "outputs": [],
      "source": [
        "import numpy as np\n",
        "import matplotlib.pyplot as plt\n",
        "import time"
      ]
    },
    {
      "cell_type": "code",
      "source": [
        "def generate_XOR_easy():\n",
        "  inputs = []\n",
        "  labels = []\n",
        "  \n",
        "  for i in range(11):\n",
        "    inputs.append([0.1*i, 0.1*i])\n",
        "    labels.append(0)\n",
        "    \n",
        "    if 0.1*i == 0.5:\n",
        "      continue\n",
        "\n",
        "    inputs.append([0.1*i, 1-0.1*i])\n",
        "    labels.append(1)\n",
        "\n",
        "  return np.array(inputs), np.array(labels).reshape(21, 1)"
      ],
      "metadata": {
        "id": "6whrrZBo-uAo"
      },
      "execution_count": null,
      "outputs": []
    },
    {
      "cell_type": "code",
      "source": [
        "x1_train, y1_train = generate_XOR_easy()\n",
        "x1_test, y1_test = generate_XOR_easy()"
      ],
      "metadata": {
        "id": "3ci-LnyX-t-I"
      },
      "execution_count": null,
      "outputs": []
    },
    {
      "cell_type": "code",
      "source": [
        "class NeuralNetwork():\n",
        "  def __init__(self, ):\n",
        "    self.inputSize = 2\n",
        "    self.outputSize = 1\n",
        "    self.hidden1Size = 7\n",
        "    self.hidden2Size = 5\n",
        "\n",
        "    self.W1 = np.random.rand(self.inputSize, self.hidden1Size)\n",
        "    self.W2 = np.random.rand(self.hidden1Size, self.hidden2Size)\n",
        "    self.W3 = np.random.rand(self.hidden2Size, self.outputSize)\n",
        "\n",
        "\n",
        "  def forward(self, X):\n",
        "    self.Z1 = np.matmul(X, self.W1)\n",
        "    self.Z1 = self.sigmoid(self.Z1)\n",
        "    self.Z2 = np.matmul(self.Z1, self.W2)\n",
        "    self.Z2 = self.sigmoid(self.Z2)\n",
        "    self.Y = np.matmul(self.Z2, self.W3)\n",
        "    self.Y = self.sigmoid(self.Y)\n",
        "    o = self.Y\n",
        "    return o\n",
        "\n",
        "  def sigmoid(self, s):\n",
        "    return 1 / (1 + np.exp(-s))\n",
        "\n",
        "  def sigmoidPrime(self, s):\n",
        "    return s * (1 - s)\n",
        "\n",
        "  def backward(self, X, Y, o):\n",
        "    self.o_error = o - Y\n",
        "    self.o_delta = 2 * self.o_error * self.sigmoidPrime(o)\n",
        "    self.Z2_error = np.matmul(self.o_delta, np.matrix.transpose(self.W3))\n",
        "    self.Z2_delta = self.Z2_error * self.sigmoidPrime(self.Z2)\n",
        "    self.Z1_error = np.matmul(self.Z2_delta, np.matrix.transpose(self.W2))\n",
        "    self.Z1_delta = self.Z1_error * self.sigmoidPrime(self.Z1)\n",
        "    self.W3 -= learning_rate * np.matmul(np.matrix.transpose(self.Z2), self.o_delta)\n",
        "    self.W2 -= learning_rate * np.matmul(np.matrix.transpose(self.Z1), self.Z2_delta)\n",
        "    self.W1 -= learning_rate * np.matmul(np.matrix.transpose(X), self.Z1_delta)\n"
      ],
      "metadata": {
        "id": "NLnmY5j0_nUA"
      },
      "execution_count": null,
      "outputs": []
    },
    {
      "cell_type": "markdown",
      "source": [
        "## Basic Case"
      ],
      "metadata": {
        "id": "CcTqc7TTO60i"
      }
    },
    {
      "cell_type": "code",
      "source": [
        "# train\n",
        "\n",
        "epochs = 50000\n",
        "learning_rate = 0.4\n",
        "NN = NeuralNetwork()\n",
        "\n",
        "loss_list = np.zeros(epochs)\n",
        "accuracy_list = np.zeros(epochs)\n",
        "y_pred = np.zeros(epochs)\n",
        "for epoch in range(epochs):\n",
        "\n",
        "  # Training Loss\n",
        "  o = NN.forward(x1_train)\n",
        "  NN.backward(x1_train, y1_train, o)\n",
        "  loss_list[epoch] = np.square(NN.o_error).mean()\n",
        "  \n",
        "  # Test Accuracy\n",
        "  count = 0\n",
        "  o_test = NN.forward(x1_test)\n",
        "  for i in range(x1_test.shape[0]):\n",
        "    if o_test[i] > 0.5 : \n",
        "      y_pred[i] = 1\n",
        "    else:\n",
        "      y_pred[i] = 0\n",
        "    if y_pred[i] == y1_test[i]:\n",
        "      count += 1\n",
        "\n",
        "  accuracy_list[epoch] = count / x1_test.shape[0]"
      ],
      "metadata": {
        "id": "-wEkLvMtCY1i"
      },
      "execution_count": null,
      "outputs": []
    },
    {
      "cell_type": "code",
      "source": [
        "# Loss\n",
        "\n",
        "print(\"Loss: {:8f}\".format(loss_list[epochs-1]))\n",
        "\n",
        "plt.plot(range(len(loss_list)), loss_list)\n",
        "plt.title('Mean Sum Squared Loss')\n",
        "plt.xlabel('Epoch')\n",
        "plt.ylabel('Loss')"
      ],
      "metadata": {
        "colab": {
          "base_uri": "https://localhost:8080/",
          "height": 330
        },
        "id": "dBirB6GAMQI2",
        "outputId": "6ae9488d-ccb1-40b0-d4b2-47cf00490dc9"
      },
      "execution_count": null,
      "outputs": [
        {
          "output_type": "stream",
          "name": "stdout",
          "text": [
            "Loss: 0.000002\n"
          ]
        },
        {
          "output_type": "execute_result",
          "data": {
            "text/plain": [
              "Text(0, 0.5, 'Loss')"
            ]
          },
          "metadata": {},
          "execution_count": 29
        },
        {
          "output_type": "display_data",
          "data": {
            "text/plain": [
              "<Figure size 432x288 with 1 Axes>"
            ],
            "image/png": "[encoded data removed]"
          },
          "metadata": {
            "needs_background": "light"
          }
        }
      ]
    },
    {
      "cell_type": "code",
      "source": [
        "# Accuracy\n",
        "\n",
        "print(\"Accuracy: \", accuracy_list[epochs-1])\n",
        "\n",
        "plt.plot(range(len(accuracy_list)), accuracy_list)\n",
        "plt.title('Accuracy')\n",
        "plt.xlabel('Epoch')\n",
        "plt.ylabel('Accuracy')"
      ],
      "metadata": {
        "colab": {
          "base_uri": "https://localhost:8080/",
          "height": 330
        },
        "id": "AuJoMiQ2MQFh",
        "outputId": "3b9b0799-d7c8-4f7c-f7a1-4ca8510f61c8"
      },
      "execution_count": null,
      "outputs": [
        {
          "output_type": "stream",
          "name": "stdout",
          "text": [
            "Accuracy:  1.0\n"
          ]
        },
        {
          "output_type": "execute_result",
          "data": {
            "text/plain": [
              "Text(0, 0.5, 'Accuracy')"
            ]
          },
          "metadata": {},
          "execution_count": 30
        },
        {
          "output_type": "display_data",
          "data": {
            "text/plain": [
              "<Figure size 432x288 with 1 Axes>"
            ],
            "image/png": "[encoded data removed]"
          },
          "metadata": {
            "needs_background": "light"
          }
        }
      ]
    },
    {
      "cell_type": "code",
      "source": [
        "def show_result(x, y, pred_y):\n",
        "  plt.subplot(1,2,1)\n",
        "  plt.title('Ground truth', fontsize=18)\n",
        "  for i in range(x.shape[0]):\n",
        "    if y[i] == 0:\n",
        "      plt.plot(x[i][0], x[i][1], 'ro')\n",
        "    else:\n",
        "      plt.plot(x[i][0], x[i][1], 'bo')\n",
        "\n",
        "  plt.subplot(1,2,2)\n",
        "  plt.title('Predict result', fontsize=18)\n",
        "  for i in range(x.shape[0]):\n",
        "    if pred_y[i] < 0.5:\n",
        "      plt.plot(x[i][0], x[i][1], 'ro')\n",
        "    else:\n",
        "      plt.plot(x[i][0], x[i][1], 'bo')\n",
        "  plt.show()"
      ],
      "metadata": {
        "id": "khsbSCtc442U"
      },
      "execution_count": null,
      "outputs": []
    },
    {
      "cell_type": "code",
      "source": [
        "show_result(x1_test, y1_test, y_pred)"
      ],
      "metadata": {
        "colab": {
          "base_uri": "https://localhost:8080/",
          "height": 285
        },
        "id": "iPa8LwAS4_r0",
        "outputId": "69f01ebf-f1ff-4933-ca98-75df289eb2c4"
      },
      "execution_count": null,
      "outputs": [
        {
          "output_type": "display_data",
          "data": {
            "text/plain": [
              "<Figure size 432x288 with 2 Axes>"
            ],
            "image/png": "[encoded data removed]"
          },
          "metadata": {
            "needs_background": "light"
          }
        }
      ]
    },
    {
      "cell_type": "markdown",
      "source": [
        "## Different Learning Rates"
      ],
      "metadata": {
        "id": "AijIWj1cb81g"
      }
    },
    {
      "cell_type": "code",
      "source": [
        "# different learning rates\n",
        "\n",
        "epochs = 50000\n",
        "learning_rate_list = [0.0001, 0.001, 0.01, 0.1, 1]\n",
        "\n",
        "loss_list = np.zeros((epochs, len(learning_rate_list)))\n",
        "accuracy_list = np.zeros((epochs, len(learning_rate_list)))\n",
        "y_pred = np.zeros((epochs, len(learning_rate_list)))\n",
        "for r in range(len(learning_rate_list)):\n",
        "  learning_rate = learning_rate_list[r]\n",
        "  NN = NeuralNetwork()\n",
        "\n",
        "  for epoch in range(epochs):\n",
        "\n",
        "    # Training Loss\n",
        "    o = NN.forward(x1_train)\n",
        "    NN.backward(x1_train, y1_train, o)\n",
        "    loss_list[epoch][r] = np.square(NN.o_error).mean()\n",
        "    \n",
        "    # Test Accuracy\n",
        "    count = 0\n",
        "    o_test = NN.forward(x1_test)\n",
        "    for i in range(x1_test.shape[0]):\n",
        "      if o_test[i] > 0.5 : \n",
        "        y_pred[i][r] = 1\n",
        "      else:\n",
        "        y_pred[i][r] = 0\n",
        "      if y_pred[i][r] == y1_test[i]:\n",
        "        count += 1\n",
        "\n",
        "    accuracy_list[epoch][r] = count / x1_test.shape[0]"
      ],
      "metadata": {
        "id": "dSYz7tfxAYGX"
      },
      "execution_count": null,
      "outputs": []
    },
    {
      "cell_type": "code",
      "source": [
        "# Loss\n",
        "\n",
        "for r in range(len(learning_rate_list)):\n",
        "  plt.plot(range(len(loss_list[:,r])), loss_list[:,r], label=\"{}\".format(learning_rate_list[r]))\n",
        "  print(\"Learning rate={:4f}, Loss:　{:4f}\".format(learning_rate_list[r], loss_list[epochs-1, r]))\n",
        "\n",
        "plt.title('Mean Sum Squared Loss')\n",
        "plt.xlabel('Epoch')\n",
        "plt.ylabel('Loss')\n",
        "plt.legend(loc=\"upper right\")"
      ],
      "metadata": {
        "colab": {
          "base_uri": "https://localhost:8080/",
          "height": 399
        },
        "id": "aUeKyJ9nsFdR",
        "outputId": "97587203-4e66-48a8-a246-4333078bec82"
      },
      "execution_count": null,
      "outputs": [
        {
          "output_type": "stream",
          "name": "stdout",
          "text": [
            "Learning rate=0.000100, Loss:　0.249463\n",
            "Learning rate=0.001000, Loss:　0.249452\n",
            "Learning rate=0.010000, Loss:　0.001130\n",
            "Learning rate=0.100000, Loss:　0.000011\n",
            "Learning rate=1.000000, Loss:　0.000001\n"
          ]
        },
        {
          "output_type": "execute_result",
          "data": {
            "text/plain": [
              "<matplotlib.legend.Legend at 0x7f6d9e4fe3d0>"
            ]
          },
          "metadata": {},
          "execution_count": 35
        },
        {
          "output_type": "display_data",
          "data": {
            "text/plain": [
              "<Figure size 432x288 with 1 Axes>"
            ],
            "image/png": "[encoded data removed]"
          },
          "metadata": {
            "needs_background": "light"
          }
        }
      ]
    },
    {
      "cell_type": "code",
      "source": [
        "# Accuracy\n",
        "\n",
        "for r in range(len(learning_rate_list)):\n",
        "  plt.plot(range(len(accuracy_list[:,r])), accuracy_list[:,r], label=\"{}\".format(learning_rate_list[r]))\n",
        "  print(\"Learning rate={:4f}, Accuracy:　{:4f}\".format(learning_rate_list[r], accuracy_list[epochs-1, r]))\n",
        "\n",
        "plt.title('Accuracy')\n",
        "plt.xlabel('Epoch')\n",
        "plt.ylabel('Accuracy')\n",
        "plt.legend(loc=\"lower right\")"
      ],
      "metadata": {
        "colab": {
          "base_uri": "https://localhost:8080/",
          "height": 399
        },
        "id": "OM9ittZ2tzTI",
        "outputId": "d3fd5118-4e2c-4434-a1a2-575af94112cb"
      },
      "execution_count": null,
      "outputs": [
        {
          "output_type": "stream",
          "name": "stdout",
          "text": [
            "Learning rate=0.000100, Accuracy:　0.523810\n",
            "Learning rate=0.001000, Accuracy:　0.523810\n",
            "Learning rate=0.010000, Accuracy:　1.000000\n",
            "Learning rate=0.100000, Accuracy:　1.000000\n",
            "Learning rate=1.000000, Accuracy:　1.000000\n"
          ]
        },
        {
          "output_type": "execute_result",
          "data": {
            "text/plain": [
              "<matplotlib.legend.Legend at 0x7f6d9e15ce50>"
            ]
          },
          "metadata": {},
          "execution_count": 36
        },
        {
          "output_type": "display_data",
          "data": {
            "text/plain": [
              "<Figure size 432x288 with 1 Axes>"
            ],
            "image/png": "[encoded data removed]"
          },
          "metadata": {
            "needs_background": "light"
          }
        }
      ]
    },
    {
      "cell_type": "markdown",
      "source": [
        "## Different Numbers of Hidden Units"
      ],
      "metadata": {
        "id": "D53Eda00cCMI"
      }
    },
    {
      "cell_type": "code",
      "source": [
        "epochs = 1000\n",
        "learning_rate = 0.1\n",
        "Hidden1 = list(range(2, 20, 6))\n",
        "Hidden2 = list(range(2, 20, 6))\n",
        "\n",
        "loss_list = np.zeros((epochs, len(Hidden1)*len(Hidden2)))\n",
        "accuracy_list = np.zeros((epochs, len(Hidden1)*len(Hidden2)))\n",
        "y_pred = np.zeros((epochs, len(Hidden1)*len(Hidden2)))\n",
        "time_list = np.zeros(len(Hidden1)*len(Hidden2))\n",
        "r = 0\n",
        "\n",
        "for H1 in Hidden1:\n",
        "  for H2 in Hidden2:\n",
        "\n",
        "    NN = NeuralNetwork()\n",
        "    NN.hidden1Size = H1\n",
        "    NN.hidden2Size = H2\n",
        "    start = time.clock() \n",
        "    for epoch in range(epochs):\n",
        "\n",
        "      # Training Loss\n",
        "      o = NN.forward(x1_train)\n",
        "      NN.backward(x1_train, y1_train, o)\n",
        "      loss_list[epoch][r] = np.square(NN.o_error).mean()\n",
        "      \n",
        "      # Test Accuracy\n",
        "      count = 0\n",
        "      o_test = NN.forward(x1_test)\n",
        "      for i in range(x1_test.shape[0]):\n",
        "        if o_test[i] > 0.5 : \n",
        "          y_pred[i][r] = 1\n",
        "        else:\n",
        "          y_pred[i][r] = 0\n",
        "        if y_pred[i][r] == y1_test[i]:\n",
        "          count += 1\n",
        "\n",
        "      accuracy_list[epoch][r] = count / x1_test.shape[0]\n",
        "    \n",
        "    end = time.clock() \n",
        "    time_list[r] = end-start\n",
        "    \n",
        "    r += 1"
      ],
      "metadata": {
        "colab": {
          "base_uri": "https://localhost:8080/"
        },
        "id": "7KwYy6lYcCoy",
        "outputId": "481008ff-6d5f-4aa7-fc9c-c0d57a115bdc"
      },
      "execution_count": null,
      "outputs": [
        {
          "output_type": "stream",
          "name": "stderr",
          "text": [
            "/usr/local/lib/python3.7/dist-packages/ipykernel_launcher.py:18: DeprecationWarning: time.clock has been deprecated in Python 3.3 and will be removed from Python 3.8: use time.perf_counter or time.process_time instead\n",
            "/usr/local/lib/python3.7/dist-packages/ipykernel_launcher.py:39: DeprecationWarning: time.clock has been deprecated in Python 3.3 and will be removed from Python 3.8: use time.perf_counter or time.process_time instead\n"
          ]
        }
      ]
    },
    {
      "cell_type": "code",
      "source": [
        "# Loss\n",
        "\n",
        "r = 0\n",
        "for H1 in Hidden1:\n",
        "  for H2 in Hidden2:\n",
        "    plt.plot(range(len(loss_list[:,r])), loss_list[:,r], label=\"H1={}, H2={}\".format(H1, H2))\n",
        "    print(\"H1={}, H2={} Loss:　{:4f}\".format(H1, H2, loss_list[epochs-1, r]))\n",
        "    r += 1\n",
        "\n",
        "plt.title('Mean Sum Squared Loss')\n",
        "plt.xlabel('Epoch')\n",
        "plt.ylabel('Loss')\n",
        "plt.legend(loc=\"upper right\")"
      ],
      "metadata": {
        "colab": {
          "base_uri": "https://localhost:8080/",
          "height": 469
        },
        "id": "AO3wk6q7cDry",
        "outputId": "2e0e02e0-1cca-4fc2-89af-63cc3b0bc062"
      },
      "execution_count": null,
      "outputs": [
        {
          "output_type": "stream",
          "name": "stdout",
          "text": [
            "H1=2, H2=2 Loss:　0.249377\n",
            "H1=2, H2=8 Loss:　0.248288\n",
            "H1=2, H2=14 Loss:　0.249311\n",
            "H1=8, H2=2 Loss:　0.249183\n",
            "H1=8, H2=8 Loss:　0.249301\n",
            "H1=8, H2=14 Loss:　0.249398\n",
            "H1=14, H2=2 Loss:　0.249388\n",
            "H1=14, H2=8 Loss:　0.249390\n",
            "H1=14, H2=14 Loss:　0.249462\n"
          ]
        },
        {
          "output_type": "execute_result",
          "data": {
            "text/plain": [
              "<matplotlib.legend.Legend at 0x7f6d9e76b850>"
            ]
          },
          "metadata": {},
          "execution_count": 22
        },
        {
          "output_type": "display_data",
          "data": {
            "text/plain": [
              "<Figure size 432x288 with 1 Axes>"
            ],
            "image/png": "[encoded data removed]"
          },
          "metadata": {
            "needs_background": "light"
          }
        }
      ]
    },
    {
      "cell_type": "code",
      "source": [
        "# Accuracy\n",
        "\n",
        "r = 0\n",
        "for H1 in Hidden1:\n",
        "  for H2 in Hidden2:\n",
        "    plt.plot(range(len(accuracy_list[:,r])), accuracy_list[:,r], label=\"H1={}, H2={}\".format(H1, H2))\n",
        "    print(\"H1={}, H2={} Accuracy:　{}\".format(H1, H2, accuracy_list[epochs-1, r]))\n",
        "    r += 1\n",
        "\n",
        "plt.title('Accuracy')\n",
        "plt.xlabel('Epoch')\n",
        "plt.ylabel('Accuracy')\n",
        "plt.legend(loc=\"lower right\")"
      ],
      "metadata": {
        "colab": {
          "base_uri": "https://localhost:8080/",
          "height": 469
        },
        "id": "kyK0eG0AcDbr",
        "outputId": "ccf26bb3-01d5-493d-f271-a4d1871325f8"
      },
      "execution_count": null,
      "outputs": [
        {
          "output_type": "stream",
          "name": "stdout",
          "text": [
            "H1=2, H2=2 Accuracy:　0.5238095238095238\n",
            "H1=2, H2=8 Accuracy:　0.5238095238095238\n",
            "H1=2, H2=14 Accuracy:　0.5238095238095238\n",
            "H1=8, H2=2 Accuracy:　0.5238095238095238\n",
            "H1=8, H2=8 Accuracy:　0.5238095238095238\n",
            "H1=8, H2=14 Accuracy:　0.5238095238095238\n",
            "H1=14, H2=2 Accuracy:　0.5238095238095238\n",
            "H1=14, H2=8 Accuracy:　0.5238095238095238\n",
            "H1=14, H2=14 Accuracy:　0.5238095238095238\n"
          ]
        },
        {
          "output_type": "execute_result",
          "data": {
            "text/plain": [
              "<matplotlib.legend.Legend at 0x7f6d9e76b250>"
            ]
          },
          "metadata": {},
          "execution_count": 23
        },
        {
          "output_type": "display_data",
          "data": {
            "text/plain": [
              "<Figure size 432x288 with 1 Axes>"
            ],
            "image/png": "[encoded data removed]"
          },
          "metadata": {
            "needs_background": "light"
          }
        }
      ]
    },
    {
      "cell_type": "code",
      "source": [
        "# Time\n",
        "\n",
        "r = 0\n",
        "for H1 in Hidden1:\n",
        "  for H2 in Hidden2:\n",
        "    print('H1={}, H2={}, Running time: {:4f} Seconds'.format(H1, H2, time_list[r]))\n",
        "    r += 1\n"
      ],
      "metadata": {
        "colab": {
          "base_uri": "https://localhost:8080/"
        },
        "id": "ndWnOIpEcDSS",
        "outputId": "be202f89-0291-45de-8b18-678e54bb54c0"
      },
      "execution_count": null,
      "outputs": [
        {
          "output_type": "stream",
          "name": "stdout",
          "text": [
            "H1=2, H2=2, Running time: 0.226700 Seconds\n",
            "H1=2, H2=8, Running time: 0.227587 Seconds\n",
            "H1=2, H2=14, Running time: 0.203622 Seconds\n",
            "H1=8, H2=2, Running time: 0.200806 Seconds\n",
            "H1=8, H2=8, Running time: 0.200481 Seconds\n",
            "H1=8, H2=14, Running time: 0.207416 Seconds\n",
            "H1=14, H2=2, Running time: 0.221471 Seconds\n",
            "H1=14, H2=8, Running time: 0.192026 Seconds\n",
            "H1=14, H2=14, Running time: 0.215298 Seconds\n"
          ]
        }
      ]
    },
    {
      "cell_type": "markdown",
      "source": [
        "## Without Activation Function"
      ],
      "metadata": {
        "id": "16rkTbnD1Ow9"
      }
    },
    {
      "cell_type": "code",
      "source": [
        "epochs = 50000\n",
        "learning_rate = 0.1\n",
        "\n",
        "inputSize = 2\n",
        "outputSize = 1\n",
        "hidden1Size = 7\n",
        "hidden2Size = 5\n",
        "\n",
        "W1 = np.random.rand(inputSize, hidden1Size)\n",
        "W2 = np.random.rand(hidden1Size, hidden2Size)\n",
        "W3 = np.random.rand(hidden2Size, outputSize)\n",
        "\n",
        "loss_list = np.zeros(epochs)\n",
        "accuracy_list = np.zeros(epochs)\n",
        "y_pred = np.zeros(epochs)\n",
        "for epoch in range(epochs):\n",
        "\n",
        "  # Forward\n",
        "  Z1 = np.matmul(x1_train, W1)\n",
        "  Z2 = np.matmul(Z1, W2)\n",
        "  o = np.matmul(Z2, W3)\n",
        "    \n",
        "  # Backward\n",
        "  o_error = o - y1_train\n",
        "  o_delta = 2 * o_error\n",
        "  Z2_error = np.matmul(o_delta, np.matrix.transpose(W3))\n",
        "  Z2_delta = Z2_error\n",
        "  Z1_error = np.matmul(Z2_delta, np.matrix.transpose(W2))\n",
        "  Z1_delta = Z1_error\n",
        "  W3 -= learning_rate * np.matmul(np.matrix.transpose(Z2), o_delta)\n",
        "  W2 -= learning_rate * np.matmul(np.matrix.transpose(Z1), Z2_delta)\n",
        "  W1 -= learning_rate * np.matmul(np.matrix.transpose(x1_train), Z1_delta)\n",
        "\n",
        "  # Loss\n",
        "  loss_list[epoch] = np.square(o_error).mean()\n",
        "  \n",
        "  # Test Accuracy\n",
        "  count = 0\n",
        "  Z1 = np.matmul(x1_test, W1)\n",
        "  Z2 = np.matmul(Z1, W2)\n",
        "  o_test = np.matmul(Z2, W3)\n",
        "  for i in range(x1_test.shape[0]):\n",
        "    if o_test[i] > 0.5 : \n",
        "      y_pred[i] = 1\n",
        "    else:\n",
        "      y_pred[i] = 0\n",
        "    if y_pred[i] == y1_test[i]:\n",
        "      count += 1\n",
        "\n",
        "  accuracy_list[epoch] = count / x1_test.shape[0]"
      ],
      "metadata": {
        "colab": {
          "base_uri": "https://localhost:8080/"
        },
        "id": "uF3lsU5N1a7s",
        "outputId": "c10fc7a5-8949-4b39-a80b-21a0a8cba3a9"
      },
      "execution_count": null,
      "outputs": [
        {
          "output_type": "stream",
          "name": "stderr",
          "text": [
            "/usr/local/lib/python3.7/dist-packages/ipykernel_launcher.py:40: RuntimeWarning: overflow encountered in matmul\n",
            "/usr/local/lib/python3.7/dist-packages/ipykernel_launcher.py:41: RuntimeWarning: invalid value encountered in matmul\n",
            "/usr/local/lib/python3.7/dist-packages/ipykernel_launcher.py:20: RuntimeWarning: overflow encountered in matmul\n",
            "/usr/local/lib/python3.7/dist-packages/ipykernel_launcher.py:21: RuntimeWarning: invalid value encountered in matmul\n"
          ]
        }
      ]
    },
    {
      "cell_type": "code",
      "source": [
        "# Loss\n",
        "\n",
        "print(\"Loss: \",loss_list[epochs-1])\n",
        "\n",
        "plt.plot(range(len(loss_list)), loss_list)\n",
        "plt.title('Mean Sum Squared Loss')\n",
        "plt.xlabel('Epoch')\n",
        "plt.ylabel('Loss')"
      ],
      "metadata": {
        "colab": {
          "base_uri": "https://localhost:8080/",
          "height": 330
        },
        "id": "EwUJzI7Q1bbG",
        "outputId": "5b615f83-e40c-41c8-d8d8-d21ef0968d5e"
      },
      "execution_count": null,
      "outputs": [
        {
          "output_type": "stream",
          "name": "stdout",
          "text": [
            "Loss:  nan\n"
          ]
        },
        {
          "output_type": "execute_result",
          "data": {
            "text/plain": [
              "Text(0, 0.5, 'Loss')"
            ]
          },
          "metadata": {},
          "execution_count": 19
        },
        {
          "output_type": "display_data",
          "data": {
            "text/plain": [
              "<Figure size 432x288 with 1 Axes>"
            ],
            "image/png": "[encoded data removed]"
          },
          "metadata": {
            "needs_background": "light"
          }
        }
      ]
    },
    {
      "cell_type": "code",
      "source": [
        "# Accuracy\n",
        "\n",
        "print(\"Accuracy: \", accuracy_list[epochs-1])\n",
        "\n",
        "plt.plot(range(len(accuracy_list)), accuracy_list)\n",
        "plt.title('Accuracy')\n",
        "plt.xlabel('Epoch')\n",
        "plt.ylabel('Accuracy')"
      ],
      "metadata": {
        "colab": {
          "base_uri": "https://localhost:8080/",
          "height": 330
        },
        "id": "nmfZCUPs1N82",
        "outputId": "64017d3a-6ea5-4554-9bfc-4565f0ef4800"
      },
      "execution_count": null,
      "outputs": [
        {
          "output_type": "stream",
          "name": "stdout",
          "text": [
            "Accuracy:  0.5238095238095238\n"
          ]
        },
        {
          "output_type": "execute_result",
          "data": {
            "text/plain": [
              "Text(0, 0.5, 'Accuracy')"
            ]
          },
          "metadata": {},
          "execution_count": 20
        },
        {
          "output_type": "display_data",
          "data": {
            "text/plain": [
              "<Figure size 432x288 with 1 Axes>"
            ],
            "image/png": "[encoded data removed]"
          },
          "metadata": {
            "needs_background": "light"
          }
        }
      ]
    }
  ]
}