{
  "nbformat": 4,
  "nbformat_minor": 0,
  "metadata": {
    "colab": {
      "name": "lab1_linear.ipynb",
      "provenance": []
    },
    "kernelspec": {
      "name": "python3",
      "display_name": "Python 3"
    },
    "language_info": {
      "name": "python"
    }
  },
  "cells": [
    {
      "cell_type": "code",
      "execution_count": null,
      "metadata": {
        "id": "jo8OcKAB-oqE"
      },
      "outputs": [],
      "source": [
        "import numpy as np\n",
        "import matplotlib.pyplot as plt\n",
        "import time"
      ]
    },
    {
      "cell_type": "code",
      "source": [
        "def generate_linear (n=100):\n",
        "  pts = np.random.uniform(0, 1, (n, 2))\n",
        "  inputs = []\n",
        "  labels = []\n",
        "\n",
        "  for pt in pts:\n",
        "    inputs.append([pt[0], pt[1]])\n",
        "    distance = (pt[0]-pt[1])/1.414\n",
        "\n",
        "    if pt[0] > pt[1]:\n",
        "      labels.append(0)\n",
        "    else:\n",
        "      labels.append(1)\n",
        "      \n",
        "  return np.array(inputs), np.array(labels).reshape(n, 1)"
      ],
      "metadata": {
        "id": "LIagpIGI-uDU"
      },
      "execution_count": null,
      "outputs": []
    },
    {
      "cell_type": "code",
      "source": [
        "x1_train, y1_train = generate_linear(n=100)\n",
        "x1_test, y1_test = generate_linear(n=100)"
      ],
      "metadata": {
        "id": "3ci-LnyX-t-I"
      },
      "execution_count": null,
      "outputs": []
    },
    {
      "cell_type": "code",
      "source": [
        "class NeuralNetwork():\n",
        "  def __init__(self, ):\n",
        "    self.inputSize = 2\n",
        "    self.outputSize = 1\n",
        "    self.hidden1Size = 7\n",
        "    self.hidden2Size = 5\n",
        "\n",
        "    self.W1 = np.random.rand(self.inputSize, self.hidden1Size)\n",
        "    self.W2 = np.random.rand(self.hidden1Size, self.hidden2Size)\n",
        "    self.W3 = np.random.rand(self.hidden2Size, self.outputSize)\n",
        "\n",
        "\n",
        "  def forward(self, X):\n",
        "    self.Z1 = np.matmul(X, self.W1)\n",
        "    self.Z1 = self.sigmoid(self.Z1)\n",
        "    self.Z2 = np.matmul(self.Z1, self.W2)\n",
        "    self.Z2 = self.sigmoid(self.Z2)\n",
        "    self.Y = np.matmul(self.Z2, self.W3)\n",
        "    self.Y = self.sigmoid(self.Y)\n",
        "    o = self.Y\n",
        "    return o\n",
        "\n",
        "  def sigmoid(self, s):\n",
        "    return 1 / (1 + np.exp(-s))\n",
        "\n",
        "  def sigmoidPrime(self, s):\n",
        "    return s * (1 - s)\n",
        "\n",
        "  def backward(self, X, Y, o):\n",
        "    self.o_error = o - Y\n",
        "    self.o_delta = 2 * self.o_error * self.sigmoidPrime(o)\n",
        "    self.Z2_error = np.matmul(self.o_delta, np.matrix.transpose(self.W3))\n",
        "    self.Z2_delta = self.Z2_error * self.sigmoidPrime(self.Z2)\n",
        "    self.Z1_error = np.matmul(self.Z2_delta, np.matrix.transpose(self.W2))\n",
        "    self.Z1_delta = self.Z1_error * self.sigmoidPrime(self.Z1)\n",
        "    self.W3 -= learning_rate * np.matmul(np.matrix.transpose(self.Z2), self.o_delta)\n",
        "    self.W2 -= learning_rate * np.matmul(np.matrix.transpose(self.Z1), self.Z2_delta)\n",
        "    self.W1 -= learning_rate * np.matmul(np.matrix.transpose(X), self.Z1_delta)\n"
      ],
      "metadata": {
        "id": "NLnmY5j0_nUA"
      },
      "execution_count": null,
      "outputs": []
    },
    {
      "cell_type": "markdown",
      "source": [
        "## Basic Case"
      ],
      "metadata": {
        "id": "CcTqc7TTO60i"
      }
    },
    {
      "cell_type": "code",
      "source": [
        "# train\n",
        "\n",
        "epochs = 50000\n",
        "learning_rate = 0.4\n",
        "NN = NeuralNetwork()\n",
        "\n",
        "loss_list = np.zeros(epochs)\n",
        "accuracy_list = np.zeros(epochs)\n",
        "y_pred = np.zeros(epochs)\n",
        "for epoch in range(epochs):\n",
        "\n",
        "  # Training Loss\n",
        "  o = NN.forward(x1_train)\n",
        "  NN.backward(x1_train, y1_train, o)\n",
        "  loss_list[epoch] = np.square(NN.o_error).mean()\n",
        "  \n",
        "  # Test Accuracy\n",
        "  count = 0\n",
        "  o_test = NN.forward(x1_test)\n",
        "  for i in range(x1_test.shape[0]):\n",
        "    if o_test[i] > 0.5 : \n",
        "      y_pred[i] = 1\n",
        "    else:\n",
        "      y_pred[i] = 0\n",
        "    if y_pred[i] == y1_test[i]:\n",
        "      count += 1\n",
        "\n",
        "  accuracy_list[epoch] = count / x1_test.shape[0]"
      ],
      "metadata": {
        "id": "-wEkLvMtCY1i"
      },
      "execution_count": null,
      "outputs": []
    },
    {
      "cell_type": "code",
      "source": [
        "# Loss\n",
        "\n",
        "print(\"Loss: {:8f}\".format(loss_list[epochs-1]))\n",
        "\n",
        "plt.plot(range(len(loss_list)), loss_list)\n",
        "plt.title('Mean Sum Squared Loss')\n",
        "plt.xlabel('Epoch')\n",
        "plt.ylabel('Loss')"
      ],
      "metadata": {
        "colab": {
          "base_uri": "https://localhost:8080/",
          "height": 330
        },
        "id": "dBirB6GAMQI2",
        "outputId": "4e2aaeea-f301-46bf-8e4d-e328309bb88e"
      },
      "execution_count": null,
      "outputs": [
        {
          "output_type": "stream",
          "name": "stdout",
          "text": [
            "Loss: 0.000000\n"
          ]
        },
        {
          "output_type": "execute_result",
          "data": {
            "text/plain": [
              "Text(0, 0.5, 'Loss')"
            ]
          },
          "metadata": {},
          "execution_count": 452
        },
        {
          "output_type": "display_data",
          "data": {
            "text/plain": [
              "<Figure size 432x288 with 1 Axes>"
            ],
            "image/png": "[encoded data removed]"
          },
          "metadata": {
            "needs_background": "light"
          }
        }
      ]
    },
    {
      "cell_type": "code",
      "source": [
        "# Accuracy\n",
        "\n",
        "print(\"Accuracy: \", accuracy_list[epochs-1])\n",
        "\n",
        "plt.plot(range(len(accuracy_list)), accuracy_list)\n",
        "plt.title('Accuracy')\n",
        "plt.xlabel('Epoch')\n",
        "plt.ylabel('Accuracy')"
      ],
      "metadata": {
        "colab": {
          "base_uri": "https://localhost:8080/",
          "height": 330
        },
        "id": "AuJoMiQ2MQFh",
        "outputId": "53968dcf-4a81-485d-f53c-d76d8cc8b954"
      },
      "execution_count": null,
      "outputs": [
        {
          "output_type": "stream",
          "name": "stdout",
          "text": [
            "Accuracy:  1.0\n"
          ]
        },
        {
          "output_type": "execute_result",
          "data": {
            "text/plain": [
              "Text(0, 0.5, 'Accuracy')"
            ]
          },
          "metadata": {},
          "execution_count": 453
        },
        {
          "output_type": "display_data",
          "data": {
            "text/plain": [
              "<Figure size 432x288 with 1 Axes>"
            ],
            "image/png": "[encoded data removed]"
          },
          "metadata": {
            "needs_background": "light"
          }
        }
      ]
    },
    {
      "cell_type": "code",
      "source": [
        "def show_result(x, y, pred_y):\n",
        "  plt.subplot(1,2,1)\n",
        "  plt.title('Ground truth', fontsize=18)\n",
        "  for i in range(x.shape[0]):\n",
        "    if y[i] == 0:\n",
        "      plt.plot(x[i][0], x[i][1], 'ro')\n",
        "    else:\n",
        "      plt.plot(x[i][0], x[i][1], 'bo')\n",
        "\n",
        "  plt.subplot(1,2,2)\n",
        "  plt.title('Predict result', fontsize=18)\n",
        "  for i in range(x.shape[0]):\n",
        "    if pred_y[i] < 0.5:\n",
        "      plt.plot(x[i][0], x[i][1], 'ro')\n",
        "    else:\n",
        "      plt.plot(x[i][0], x[i][1], 'bo')\n",
        "  plt.show()"
      ],
      "metadata": {
        "id": "khsbSCtc442U"
      },
      "execution_count": null,
      "outputs": []
    },
    {
      "cell_type": "code",
      "source": [
        "show_result(x1_test, y1_test, y_pred)"
      ],
      "metadata": {
        "colab": {
          "base_uri": "https://localhost:8080/",
          "height": 285
        },
        "id": "iPa8LwAS4_r0",
        "outputId": "7330efd0-d720-4b49-b50a-a2323f539f19"
      },
      "execution_count": null,
      "outputs": [
        {
          "output_type": "display_data",
          "data": {
            "text/plain": [
              "<Figure size 432x288 with 2 Axes>"
            ],
            "image/png": "[encoded data removed]"
          },
          "metadata": {
            "needs_background": "light"
          }
        }
      ]
    },
    {
      "cell_type": "markdown",
      "source": [
        "## Different Learning Rates"
      ],
      "metadata": {
        "id": "AijIWj1cb81g"
      }
    },
    {
      "cell_type": "code",
      "source": [
        "# different learning rates\n",
        "\n",
        "epochs = 50000\n",
        "learning_rate_list = [0.0001, 0.001, 0.01, 0.1, 1]\n",
        "\n",
        "loss_list = np.zeros((epochs, len(learning_rate_list)))\n",
        "accuracy_list = np.zeros((epochs, len(learning_rate_list)))\n",
        "y_pred = np.zeros((epochs, len(learning_rate_list)))\n",
        "for r in range(len(learning_rate_list)):\n",
        "  learning_rate = learning_rate_list[r]\n",
        "  NN = NeuralNetwork()\n",
        "\n",
        "  for epoch in range(epochs):\n",
        "\n",
        "    # Training Loss\n",
        "    o = NN.forward(x1_train)\n",
        "    NN.backward(x1_train, y1_train, o)\n",
        "    loss_list[epoch][r] = np.square(NN.o_error).mean()\n",
        "    \n",
        "    # Test Accuracy\n",
        "    count = 0\n",
        "    o_test = NN.forward(x1_test)\n",
        "    for i in range(x1_test.shape[0]):\n",
        "      if o_test[i] > 0.5 : \n",
        "        y_pred[i][r] = 1\n",
        "      else:\n",
        "        y_pred[i][r] = 0\n",
        "      if y_pred[i][r] == y1_test[i]:\n",
        "        count += 1\n",
        "\n",
        "    accuracy_list[epoch][r] = count / x1_test.shape[0]"
      ],
      "metadata": {
        "id": "dSYz7tfxAYGX"
      },
      "execution_count": null,
      "outputs": []
    },
    {
      "cell_type": "code",
      "source": [
        "# Loss\n",
        "\n",
        "for r in range(len(learning_rate_list)):\n",
        "  plt.plot(range(len(loss_list[:,r])), loss_list[:,r], label=\"{}\".format(learning_rate_list[r]))\n",
        "  print(\"Learning rate={:4f} Loss:　{:4f}\".format(learning_rate_list[r], loss_list[epochs-1, r]))\n",
        "\n",
        "plt.title('Mean Sum Squared Loss')\n",
        "plt.xlabel('Epoch')\n",
        "plt.ylabel('Loss')\n",
        "plt.legend(loc=\"upper right\")"
      ],
      "metadata": {
        "colab": {
          "base_uri": "https://localhost:8080/",
          "height": 399
        },
        "id": "aUeKyJ9nsFdR",
        "outputId": "384019fc-6a36-4630-c694-ee27ddb1e35f"
      },
      "execution_count": null,
      "outputs": [
        {
          "output_type": "stream",
          "name": "stdout",
          "text": [
            "Learning rate=0.000100 Loss:　0.246317\n",
            "Learning rate=0.001000 Loss:　0.008032\n",
            "Learning rate=0.010000 Loss:　0.000294\n",
            "Learning rate=0.100000 Loss:　0.000003\n",
            "Learning rate=1.000000 Loss:　0.440000\n"
          ]
        },
        {
          "output_type": "execute_result",
          "data": {
            "text/plain": [
              "<matplotlib.legend.Legend at 0x7fa4e3e7b150>"
            ]
          },
          "metadata": {},
          "execution_count": 434
        },
        {
          "output_type": "display_data",
          "data": {
            "text/plain": [
              "<Figure size 432x288 with 1 Axes>"
            ],
            "image/png": "[encoded data removed]"
          },
          "metadata": {
            "needs_background": "light"
          }
        }
      ]
    },
    {
      "cell_type": "code",
      "source": [
        "# Accuracy\n",
        "\n",
        "for r in range(len(learning_rate_list)):\n",
        "  plt.plot(range(len(accuracy_list[:,r])), accuracy_list[:,r], label=\"{}\".format(learning_rate_list[r]))\n",
        "  print(\"Learning rate={:4f}, Accuracy:　{:4f}\".format(learning_rate_list[r], accuracy_list[epochs-1, r]))\n",
        "\n",
        "plt.title('Accuracy')\n",
        "plt.xlabel('Epoch')\n",
        "plt.ylabel('Accuracy')\n",
        "plt.legend(loc=\"lower right\")"
      ],
      "metadata": {
        "colab": {
          "base_uri": "https://localhost:8080/",
          "height": 399
        },
        "id": "OM9ittZ2tzTI",
        "outputId": "8a3fe2bd-1171-48a9-a54f-36bb92c247b9"
      },
      "execution_count": null,
      "outputs": [
        {
          "output_type": "stream",
          "name": "stdout",
          "text": [
            "Learning rate=0.000100, Accuracy:　0.470000\n",
            "Learning rate=0.001000, Accuracy:　0.990000\n",
            "Learning rate=0.010000, Accuracy:　1.000000\n",
            "Learning rate=0.100000, Accuracy:　1.000000\n",
            "Learning rate=1.000000, Accuracy:　0.470000\n"
          ]
        },
        {
          "output_type": "execute_result",
          "data": {
            "text/plain": [
              "<matplotlib.legend.Legend at 0x7fa4e3ea4cd0>"
            ]
          },
          "metadata": {},
          "execution_count": 435
        },
        {
          "output_type": "display_data",
          "data": {
            "text/plain": [
              "<Figure size 432x288 with 1 Axes>"
            ],
            "image/png": "[encoded data removed]"
          },
          "metadata": {
            "needs_background": "light"
          }
        }
      ]
    },
    {
      "cell_type": "markdown",
      "source": [
        "## Different Numbers of Hidden Units"
      ],
      "metadata": {
        "id": "D53Eda00cCMI"
      }
    },
    {
      "cell_type": "code",
      "source": [
        "epochs = 1000\n",
        "learning_rate = 0.1\n",
        "Hidden1 = list(range(2, 20, 6))\n",
        "Hidden2 = list(range(2, 20, 6))\n",
        "\n",
        "loss_list = np.zeros((epochs, len(Hidden1)*len(Hidden2)))\n",
        "accuracy_list = np.zeros((epochs, len(Hidden1)*len(Hidden2)))\n",
        "y_pred = np.zeros((epochs, len(Hidden1)*len(Hidden2)))\n",
        "time_list = np.zeros(len(Hidden1)*len(Hidden2))\n",
        "r = 0\n",
        "\n",
        "for H1 in Hidden1:\n",
        "  for H2 in Hidden2:\n",
        "\n",
        "    NN = NeuralNetwork()\n",
        "    NN.hidden1Size = H1\n",
        "    NN.hidden2Size = H2\n",
        "    start = time.clock() \n",
        "    for epoch in range(epochs):\n",
        "\n",
        "      # Training Loss\n",
        "      o = NN.forward(x1_train)\n",
        "      NN.backward(x1_train, y1_train, o)\n",
        "      loss_list[epoch][r] = np.square(NN.o_error).mean()\n",
        "      \n",
        "      # Test Accuracy\n",
        "      count = 0\n",
        "      o_test = NN.forward(x1_test)\n",
        "      for i in range(x1_test.shape[0]):\n",
        "        if o_test[i] > 0.5 : \n",
        "          y_pred[i][r] = 1\n",
        "        else:\n",
        "          y_pred[i][r] = 0\n",
        "        if y_pred[i][r] == y1_test[i]:\n",
        "          count += 1\n",
        "\n",
        "      accuracy_list[epoch][r] = count / x1_test.shape[0]\n",
        "    \n",
        "    end = time.clock() \n",
        "    time_list[r] = end-start\n",
        "    \n",
        "    r += 1"
      ],
      "metadata": {
        "colab": {
          "base_uri": "https://localhost:8080/"
        },
        "id": "7KwYy6lYcCoy",
        "outputId": "75939799-c487-4474-94f8-d676ef4b13d0"
      },
      "execution_count": null,
      "outputs": [
        {
          "output_type": "stream",
          "name": "stderr",
          "text": [
            "/usr/local/lib/python3.7/dist-packages/ipykernel_launcher.py:18: DeprecationWarning: time.clock has been deprecated in Python 3.3 and will be removed from Python 3.8: use time.perf_counter or time.process_time instead\n",
            "/usr/local/lib/python3.7/dist-packages/ipykernel_launcher.py:39: DeprecationWarning: time.clock has been deprecated in Python 3.3 and will be removed from Python 3.8: use time.perf_counter or time.process_time instead\n"
          ]
        }
      ]
    },
    {
      "cell_type": "code",
      "source": [
        "# Loss\n",
        "\n",
        "r = 0\n",
        "for H1 in Hidden1:\n",
        "  for H2 in Hidden2:\n",
        "    plt.plot(range(len(loss_list[:,r])), loss_list[:,r], label=\"H1={}, H2={}\".format(H1, H2))\n",
        "    print(\"H1={}, H2={} Loss:　{:4f}\".format(H1, H2, loss_list[epochs-1, r]))\n",
        "    r += 1\n",
        "\n",
        "plt.title('Mean Sum Squared Loss')\n",
        "plt.xlabel('Epoch')\n",
        "plt.ylabel('Loss')\n",
        "plt.legend(loc=\"upper right\")"
      ],
      "metadata": {
        "colab": {
          "base_uri": "https://localhost:8080/",
          "height": 469
        },
        "id": "AO3wk6q7cDry",
        "outputId": "84878ef6-375f-4785-e43c-e41bf5d950ea"
      },
      "execution_count": null,
      "outputs": [
        {
          "output_type": "stream",
          "name": "stdout",
          "text": [
            "H1=2, H2=2 Loss:　0.012435\n",
            "H1=2, H2=8 Loss:　0.013944\n",
            "H1=2, H2=14 Loss:　0.012138\n",
            "H1=8, H2=2 Loss:　0.013698\n",
            "H1=8, H2=8 Loss:　0.013879\n",
            "H1=8, H2=14 Loss:　0.014094\n",
            "H1=14, H2=2 Loss:　0.014835\n",
            "H1=14, H2=8 Loss:　0.012197\n",
            "H1=14, H2=14 Loss:　0.012782\n"
          ]
        },
        {
          "output_type": "execute_result",
          "data": {
            "text/plain": [
              "<matplotlib.legend.Legend at 0x7fa4e3ffcad0>"
            ]
          },
          "metadata": {},
          "execution_count": 430
        },
        {
          "output_type": "display_data",
          "data": {
            "text/plain": [
              "<Figure size 432x288 with 1 Axes>"
            ],
            "image/png": "[encoded data removed]"
          },
          "metadata": {
            "needs_background": "light"
          }
        }
      ]
    },
    {
      "cell_type": "code",
      "source": [
        "# Accuracy\n",
        "\n",
        "r = 0\n",
        "for H1 in Hidden1:\n",
        "  for H2 in Hidden2:\n",
        "    plt.plot(range(len(accuracy_list[:,r])), accuracy_list[:,r], label=\"H1={}, H2={}\".format(H1, H2))\n",
        "    print(\"H1={}, H2={} Accuracy:　{}\".format(H1, H2, accuracy_list[epochs-1, r]))\n",
        "    r += 1\n",
        "\n",
        "plt.title('Accuracy')\n",
        "plt.xlabel('Epoch')\n",
        "plt.ylabel('Accuracy')\n",
        "plt.legend(loc=\"lower right\")"
      ],
      "metadata": {
        "colab": {
          "base_uri": "https://localhost:8080/",
          "height": 469
        },
        "id": "kyK0eG0AcDbr",
        "outputId": "62dba877-4d0a-4a6a-e2b2-39ecdaabe86e"
      },
      "execution_count": null,
      "outputs": [
        {
          "output_type": "stream",
          "name": "stdout",
          "text": [
            "H1=2, H2=2 Accuracy:　1.0\n",
            "H1=2, H2=8 Accuracy:　0.96\n",
            "H1=2, H2=14 Accuracy:　1.0\n",
            "H1=8, H2=2 Accuracy:　0.97\n",
            "H1=8, H2=8 Accuracy:　0.96\n",
            "H1=8, H2=14 Accuracy:　0.97\n",
            "H1=14, H2=2 Accuracy:　0.96\n",
            "H1=14, H2=8 Accuracy:　1.0\n",
            "H1=14, H2=14 Accuracy:　1.0\n"
          ]
        },
        {
          "output_type": "execute_result",
          "data": {
            "text/plain": [
              "<matplotlib.legend.Legend at 0x7fa4e4004250>"
            ]
          },
          "metadata": {},
          "execution_count": 431
        },
        {
          "output_type": "display_data",
          "data": {
            "text/plain": [
              "<Figure size 432x288 with 1 Axes>"
            ],
            "image/png": "[encoded data removed]"
          },
          "metadata": {
            "needs_background": "light"
          }
        }
      ]
    },
    {
      "cell_type": "code",
      "source": [
        "# Time\n",
        "\n",
        "r = 0\n",
        "for H1 in Hidden1:\n",
        "  for H2 in Hidden2:\n",
        "    print('H1={}, H2={}, Running time: {:4f} Seconds'.format(H1, H2, time_list[r]))\n",
        "    r += 1\n"
      ],
      "metadata": {
        "colab": {
          "base_uri": "https://localhost:8080/"
        },
        "id": "ndWnOIpEcDSS",
        "outputId": "6c00cd0b-79c9-449a-98d8-a60825f8b3be"
      },
      "execution_count": null,
      "outputs": [
        {
          "output_type": "stream",
          "name": "stdout",
          "text": [
            "H1=2, H2=2, Running time: 0.571002 Seconds\n",
            "H1=2, H2=8, Running time: 0.601708 Seconds\n",
            "H1=2, H2=14, Running time: 0.563897 Seconds\n",
            "H1=8, H2=2, Running time: 0.573330 Seconds\n",
            "H1=8, H2=8, Running time: 0.568916 Seconds\n",
            "H1=8, H2=14, Running time: 0.555665 Seconds\n",
            "H1=14, H2=2, Running time: 0.549923 Seconds\n",
            "H1=14, H2=8, Running time: 0.563543 Seconds\n",
            "H1=14, H2=14, Running time: 0.578566 Seconds\n"
          ]
        }
      ]
    },
    {
      "cell_type": "markdown",
      "source": [
        "## Without Activation Function"
      ],
      "metadata": {
        "id": "16rkTbnD1Ow9"
      }
    },
    {
      "cell_type": "code",
      "source": [
        "epochs = 50000\n",
        "learning_rate = 0.1\n",
        "\n",
        "inputSize = 2\n",
        "outputSize = 1\n",
        "hidden1Size = 7\n",
        "hidden2Size = 5\n",
        "\n",
        "W1 = np.random.rand(inputSize, hidden1Size)\n",
        "W2 = np.random.rand(hidden1Size, hidden2Size)\n",
        "W3 = np.random.rand(hidden2Size, outputSize)\n",
        "\n",
        "loss_list = np.zeros(epochs)\n",
        "accuracy_list = np.zeros(epochs)\n",
        "y_pred = np.zeros(epochs)\n",
        "for epoch in range(epochs):\n",
        "\n",
        "  # Forward\n",
        "  Z1 = np.matmul(x1_train, W1)\n",
        "  Z2 = np.matmul(Z1, W2)\n",
        "  o = np.matmul(Z2, W3)\n",
        "    \n",
        "  # Backward\n",
        "  o_error = o - y1_train\n",
        "  o_delta = 2 * o_error\n",
        "  Z2_error = np.matmul(o_delta, np.matrix.transpose(W3))\n",
        "  Z2_delta = Z2_error\n",
        "  Z1_error = np.matmul(Z2_delta, np.matrix.transpose(W2))\n",
        "  Z1_delta = Z1_error\n",
        "  W3 -= learning_rate * np.matmul(np.matrix.transpose(Z2), o_delta)\n",
        "  W2 -= learning_rate * np.matmul(np.matrix.transpose(Z1), Z2_delta)\n",
        "  W1 -= learning_rate * np.matmul(np.matrix.transpose(x1_train), Z1_delta)\n",
        "\n",
        "  # Loss\n",
        "  loss_list[epoch] = np.square(o_error).mean()\n",
        "  \n",
        "  # Test Accuracy\n",
        "  count = 0\n",
        "  Z1 = np.matmul(x1_test, W1)\n",
        "  Z2 = np.matmul(Z1, W2)\n",
        "  o_test = np.matmul(Z2, W3)\n",
        "  for i in range(x1_test.shape[0]):\n",
        "    if o_test[i] > 0.5 : \n",
        "      y_pred[i] = 1\n",
        "    else:\n",
        "      y_pred[i] = 0\n",
        "    if y_pred[i] == y1_test[i]:\n",
        "      count += 1\n",
        "\n",
        "  accuracy_list[epoch] = count / x1_test.shape[0]"
      ],
      "metadata": {
        "colab": {
          "base_uri": "https://localhost:8080/"
        },
        "id": "uF3lsU5N1a7s",
        "outputId": "d0586055-d685-47c6-8ee2-0d226f585218"
      },
      "execution_count": null,
      "outputs": [
        {
          "output_type": "stream",
          "name": "stderr",
          "text": [
            "/usr/local/lib/python3.7/dist-packages/ipykernel_launcher.py:35: RuntimeWarning: overflow encountered in square\n",
            "/usr/local/lib/python3.7/dist-packages/ipykernel_launcher.py:40: RuntimeWarning: overflow encountered in matmul\n",
            "/usr/local/lib/python3.7/dist-packages/ipykernel_launcher.py:20: RuntimeWarning: overflow encountered in matmul\n",
            "/usr/local/lib/python3.7/dist-packages/ipykernel_launcher.py:30: RuntimeWarning: invalid value encountered in subtract\n",
            "/usr/local/lib/python3.7/dist-packages/ipykernel_launcher.py:31: RuntimeWarning: invalid value encountered in subtract\n",
            "/usr/local/lib/python3.7/dist-packages/ipykernel_launcher.py:32: RuntimeWarning: invalid value encountered in subtract\n"
          ]
        }
      ]
    },
    {
      "cell_type": "code",
      "source": [
        "# Loss\n",
        "\n",
        "print(\"Loss: \",loss_list[epochs-1])\n",
        "\n",
        "plt.plot(range(len(loss_list)), loss_list)\n",
        "plt.title('Mean Sum Squared Loss')\n",
        "plt.xlabel('Epoch')\n",
        "plt.ylabel('Loss')"
      ],
      "metadata": {
        "colab": {
          "base_uri": "https://localhost:8080/",
          "height": 330
        },
        "id": "EwUJzI7Q1bbG",
        "outputId": "968d264b-c879-402e-fd3d-a707bdcd7ee6"
      },
      "execution_count": null,
      "outputs": [
        {
          "output_type": "stream",
          "name": "stdout",
          "text": [
            "Loss:  nan\n"
          ]
        },
        {
          "output_type": "execute_result",
          "data": {
            "text/plain": [
              "Text(0, 0.5, 'Loss')"
            ]
          },
          "metadata": {},
          "execution_count": 424
        },
        {
          "output_type": "display_data",
          "data": {
            "text/plain": [
              "<Figure size 432x288 with 1 Axes>"
            ],
            "image/png": "[encoded data removed]"
          },
          "metadata": {
            "needs_background": "light"
          }
        }
      ]
    },
    {
      "cell_type": "code",
      "source": [
        "# Accuracy\n",
        "\n",
        "print(\"Accuracy: \", accuracy_list[epochs-1])\n",
        "\n",
        "plt.plot(range(len(accuracy_list)), accuracy_list)\n",
        "plt.title('Accuracy')\n",
        "plt.xlabel('Epoch')\n",
        "plt.ylabel('Accuracy')"
      ],
      "metadata": {
        "colab": {
          "base_uri": "https://localhost:8080/",
          "height": 330
        },
        "id": "nmfZCUPs1N82",
        "outputId": "498eb27d-5f7c-448b-b9ea-e32d310d7a49"
      },
      "execution_count": null,
      "outputs": [
        {
          "output_type": "stream",
          "name": "stdout",
          "text": [
            "Accuracy:  0.47\n"
          ]
        },
        {
          "output_type": "execute_result",
          "data": {
            "text/plain": [
              "Text(0, 0.5, 'Accuracy')"
            ]
          },
          "metadata": {},
          "execution_count": 425
        },
        {
          "output_type": "display_data",
          "data": {
            "text/plain": [
              "<Figure size 432x288 with 1 Axes>"
            ],
            "image/png": "[encoded data removed]"
          },
          "metadata": {
            "needs_background": "light"
          }
        }
      ]
    }
  ]
}